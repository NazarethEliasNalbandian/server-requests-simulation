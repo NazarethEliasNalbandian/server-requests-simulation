{
 "cells": [
  {
   "cell_type": "code",
   "execution_count": null,
   "id": "94085c85-a2fd-4f1a-9533-ba33af79798d",
   "metadata": {},
   "outputs": [],
   "source": [
    "!pip install fitter"
   ]
  },
  {
   "cell_type": "code",
   "execution_count": null,
   "id": "631447cd-f4e5-44b6-8add-4412626700f6",
   "metadata": {},
   "outputs": [],
   "source": [
    "import pandas as pd\n",
    "import re\n",
    "from pathlib import Path\n",
    "import matplotlib.pyplot as plt\n",
    "from fitter import Fitter\n",
    "from fitter import get_distributions\n",
    "import numpy as np\n",
    "import zipfile\n",
    "import os"
   ]
  },
  {
   "cell_type": "code",
   "execution_count": null,
   "id": "c312274a-ff1c-4261-a002-9f2cfbf8a82d",
   "metadata": {},
   "outputs": [],
   "source": [
    "def descomprimir_zip_en_misma_carpeta(ruta_zip):\n",
    "    # Obtener carpeta donde está el zip\n",
    "    carpeta_destino = os.path.dirname(ruta_zip)\n",
    "\n",
    "    with zipfile.ZipFile(ruta_zip, 'r') as zip_ref:\n",
    "        zip_ref.extractall(carpeta_destino)\n",
    "\n",
    "ruta_zip = r\".\\data\\logfiles.zip\"\n",
    "descomprimir_zip_en_misma_carpeta(ruta_zip)"
   ]
  },
  {
   "cell_type": "code",
   "execution_count": null,
   "id": "05ea9172-2e4d-4f0b-a77b-dab5dd31cb57",
   "metadata": {},
   "outputs": [],
   "source": [
    "ruta_log = Path(r\".\\data\\logfiles.log\")"
   ]
  },
  {
   "cell_type": "code",
   "execution_count": null,
   "id": "f94f4184-85b0-49a6-b9fa-0abdf236d709",
   "metadata": {},
   "outputs": [],
   "source": [
    "def parsear_linea(linea):\n",
    "    patron = (\n",
    "        r'(?P<ip>\\d+\\.\\d+\\.\\d+\\.\\d+)\\s+- -\\s+\\[(?P<timestamp>[^\\]]+)\\]\\s+'\n",
    "        r'\"(?P<method>GET|POST|PUT|DELETE|HEAD|OPTIONS)\\s+(?P<url>\\S+)\\s+(?P<protocol>HTTP/[\\d.]+)\"\\s+'\n",
    "        r'(?P<status>\\d{3})\\s+(?P<response_time>\\d+)\\s+'\n",
    "        r'\"(?P<referrer>[^\"]*)\"\\s+\"(?P<user_agent>[^\"]*)\"'\n",
    "    )\n",
    "\n",
    "    match = re.match(patron, linea)\n",
    "    if match:\n",
    "        return {\n",
    "            \"ip\": match.group(\"ip\"),\n",
    "            \"timestamp\": match.group(\"timestamp\"),\n",
    "            \"request_type\": match.group(\"method\"),\n",
    "            \"url\": match.group(\"url\"),\n",
    "            \"protocol\": match.group(\"protocol\"),\n",
    "            \"status_code\": int(match.group(\"status\")),\n",
    "            \"response_time\": int(match.group(\"response_time\")),\n",
    "            \"referrer\": match.group(\"referrer\"),\n",
    "            \"user_agent\": match.group(\"user_agent\"),\n",
    "        }\n",
    "    return None"
   ]
  },
  {
   "cell_type": "code",
   "execution_count": null,
   "id": "ca4ad314-b2cd-4a86-ac61-c678da4011c6",
   "metadata": {},
   "outputs": [],
   "source": [
    "registros = []\n",
    "\n",
    "with open(ruta_log, 'r', encoding='utf-8') as f:\n",
    "    for linea in f:\n",
    "        resultado = parsear_linea(linea.strip())\n",
    "        if resultado:\n",
    "            registros.append(resultado)\n",
    "\n",
    "df = pd.DataFrame(registros)\n",
    "print(\"📄 Primeras filas del DataFrame:\")\n",
    "display(df.head())"
   ]
  },
  {
   "cell_type": "code",
   "execution_count": null,
   "id": "234d6779-de56-4771-b7e3-a80ecb202787",
   "metadata": {},
   "outputs": [],
   "source": [
    "def eliminar_log(path_log):\n",
    "    if os.path.exists(path_log):\n",
    "        os.remove(path_log)\n",
    "    else:\n",
    "        print(f\"⚠️ El archivo no existe: {path_log}\")\n",
    "\n",
    "# Ejemplo de uso\n",
    "ruta_log = r\".\\data\\logfiles.log\"\n",
    "eliminar_log(ruta_log)"
   ]
  },
  {
   "cell_type": "code",
   "execution_count": null,
   "id": "74abc09e-18a5-467e-aeec-3930e1d78882",
   "metadata": {},
   "outputs": [],
   "source": [
    "print(df.dtypes)"
   ]
  },
  {
   "cell_type": "code",
   "execution_count": null,
   "id": "f4564b81-464d-4e37-8101-b0bb7a723a42",
   "metadata": {},
   "outputs": [],
   "source": [
    "df = df.astype({\n",
    "    \"ip\": \"string\",\n",
    "    \"request_type\": \"string\",\n",
    "    \"url\": \"string\",\n",
    "    \"protocol\": \"string\",\n",
    "    \"referrer\": \"string\",\n",
    "    \"user_agent\": \"string\"\n",
    "})\n",
    "\n",
    "df[\"timestamp\"] = pd.to_datetime(df[\"timestamp\"], format=\"%d/%b/%Y:%H:%M:%S.%f %z\")\n",
    "\n",
    "df[\"status_code\"] = pd.to_numeric(df[\"status_code\"], errors=\"coerce\")\n",
    "df[\"response_time\"] = pd.to_numeric(df[\"response_time\"], errors=\"coerce\")\n",
    "\n",
    "display(df.head())"
   ]
  },
  {
   "cell_type": "code",
   "execution_count": null,
   "id": "79058532-c008-4419-bf04-3144c0d3d3dc",
   "metadata": {},
   "outputs": [],
   "source": [
    "df_get_post = df[df['request_type'].isin(['GET', 'POST'])]"
   ]
  },
  {
   "cell_type": "code",
   "execution_count": null,
   "id": "41e60ed1-ca87-43dd-b39f-360a806d5867",
   "metadata": {},
   "outputs": [],
   "source": [
    "df_get = df[df['request_type'] == 'GET']"
   ]
  },
  {
   "cell_type": "code",
   "execution_count": null,
   "id": "77661a45-71c7-4012-bd7a-b1175cc43c70",
   "metadata": {},
   "outputs": [],
   "source": [
    "df_post = df[df['request_type'] == 'POST']"
   ]
  },
  {
   "cell_type": "code",
   "execution_count": null,
   "id": "4539d7ef-1de6-4b62-9ee7-13fa69711cab",
   "metadata": {},
   "outputs": [],
   "source": [
    "df_get_post = df_get_post.sort_values(\"timestamp\")\n",
    "\n",
    "df_get_post[\"IA\"] = df_get_post[\"timestamp\"].diff().dt.total_seconds() * 1000"
   ]
  },
  {
   "cell_type": "code",
   "execution_count": null,
   "id": "abf5ab37-538c-4f46-9ec2-9df11d25ff85",
   "metadata": {},
   "outputs": [],
   "source": [
    "ia_vals = df_get_post[\"IA\"].dropna()\n",
    "\n",
    "# Histograma de Intervalo de Arribo\n",
    "plt.figure(figsize=(10, 6))\n",
    "plt.hist(ia_vals, bins=100, color='skyblue', edgecolor='black')\n",
    "plt.title(\"Histograma de Inter-Arrival Time (IA)\")\n",
    "plt.xlabel(\"Inter-Arrival Time (ms)\")\n",
    "plt.ylabel(\"Frecuencia\")\n",
    "plt.grid(True)\n",
    "plt.show()"
   ]
  },
  {
   "cell_type": "code",
   "execution_count": null,
   "id": "c5e4b2e6-31db-401b-881a-8b456236e392",
   "metadata": {},
   "outputs": [],
   "source": [
    "# Histograma de response_time para GET\n",
    "plt.figure(figsize=(10, 6))\n",
    "plt.hist(df_get[\"response_time\"].dropna(), bins=100, color=\"skyblue\", edgecolor=\"black\")\n",
    "plt.title(\"📊 Histograma de response_time - GET\")\n",
    "plt.xlabel(\"Tiempo de respuesta (ms)\")\n",
    "plt.ylabel(\"Cantidad de requests\")\n",
    "plt.grid(True)\n",
    "plt.tight_layout()\n",
    "plt.show()"
   ]
  },
  {
   "cell_type": "code",
   "execution_count": null,
   "id": "0ad9c058-3e95-4fec-935b-3f7399e3be6e",
   "metadata": {},
   "outputs": [],
   "source": [
    "# Histograma de response_time para POST\n",
    "plt.figure(figsize=(10, 6))\n",
    "plt.hist(df_post[\"response_time\"].dropna(), bins=100, color=\"salmon\", edgecolor=\"black\")\n",
    "plt.title(\"📊 Histograma de response_time - POST\")\n",
    "plt.xlabel(\"Tiempo de respuesta (ms)\")\n",
    "plt.ylabel(\"Cantidad de requests\")\n",
    "plt.grid(True)\n",
    "plt.tight_layout()\n",
    "plt.show()"
   ]
  },
  {
   "cell_type": "code",
   "execution_count": null,
   "id": "3419f996-55c2-46cf-ba91-b085c26265ea",
   "metadata": {},
   "outputs": [],
   "source": [
    "ia_data = df_get_post[\"IA\"].dropna()\n",
    "ia_data = ia_data[ia_data > 0]\n",
    "\n",
    "f = Fitter(ia_data)\n",
    "f.fit()\n",
    "\n",
    "best_IA = f.get_best()\n",
    "print(\"🔍 Mejor distribución encontrada:\")\n",
    "print(best_IA)"
   ]
  },
  {
   "cell_type": "code",
   "execution_count": null,
   "id": "83f5cd10-2b6d-426a-8827-82be35472a9d",
   "metadata": {},
   "outputs": [],
   "source": [
    "response_time_data_get = df_get[\"response_time\"].dropna()\n",
    "response_time_data_get = response_time_data_get[response_time_data_get > 0]\n",
    "\n",
    "f = Fitter(response_time_data_get)\n",
    "f.fit()\n",
    "\n",
    "best_TA_Simples = f.get_best()\n",
    "print(\"🔍 Mejor distribución encontrada:\")\n",
    "print(best_TA_Simples)"
   ]
  },
  {
   "cell_type": "code",
   "execution_count": null,
   "id": "eae325ff-0d40-4e5c-8cd9-d3918386760d",
   "metadata": {},
   "outputs": [],
   "source": [
    "response_time_data_post = df_post[\"response_time\"].dropna()\n",
    "response_time_data_post = response_time_data_post[response_time_data_post > 0]\n",
    "\n",
    "f = Fitter(response_time_data_post)\n",
    "f.fit()\n",
    "\n",
    "best_TA_Complejas = f.get_best()\n",
    "print(\"🔍 Mejor distribución encontrada:\")\n",
    "print(best_TA_Complejas)"
   ]
  },
  {
   "cell_type": "code",
   "execution_count": null,
   "id": "49f8a977-eac0-4e4b-af38-dfda1635e172",
   "metadata": {},
   "outputs": [],
   "source": []
  }
 ],
 "metadata": {
  "kernelspec": {
   "display_name": "Python [conda env:base] *",
   "language": "python",
   "name": "conda-base-py"
  },
  "language_info": {
   "codemirror_mode": {
    "name": "ipython",
    "version": 3
   },
   "file_extension": ".py",
   "mimetype": "text/x-python",
   "name": "python",
   "nbconvert_exporter": "python",
   "pygments_lexer": "ipython3",
   "version": "3.12.7"
  }
 },
 "nbformat": 4,
 "nbformat_minor": 5
}
